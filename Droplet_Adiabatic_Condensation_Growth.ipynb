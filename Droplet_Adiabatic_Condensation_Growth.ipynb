{
 "cells": [
  {
   "cell_type": "markdown",
   "metadata": {},
   "source": [
    "# Classical Adiabatic Cloud Structure\n",
    "\n",
    "**References**\n",
    "1. Chapter 7 Rogers and Yau: A short course in Cloud Physics\n",
    "2. Robert Wood:Relationships between optical depth, liquid water path, droplet concentration and effective radius in an adiabatic layer cloud\n",
    "2. "
   ]
  },
  {
   "cell_type": "code",
   "execution_count": 11,
   "metadata": {},
   "outputs": [],
   "source": [
    "import numpy as np\n",
    "from metpy.units import units\n",
    "from metpy.constants import *\n",
    "import metpy.calc as mpcalc "
   ]
  },
  {
   "cell_type": "markdown",
   "metadata": {},
   "source": [
    "## Diffusional growth of single droplet\n"
   ]
  },
  {
   "cell_type": "code",
   "execution_count": 12,
   "metadata": {},
   "outputs": [],
   "source": [
    "def mu(T):\n",
    "    '''\n",
    "    Compute the mu from the parameterization of mu(T) on pg 102 of R&Y book\n",
    "    input:\n",
    "    T: temperature in Kelvin\n",
    "    P: pressure\n",
    "    \n",
    "    '''\n",
    "    T_Kelvin = T.to('K').magnitude\n",
    "    return 1.72*1e-5 *(393.0/(T_Kelvin+120.0))*np.power(T_Kelvin/273,3.0/2.0) *units('kg/m/s')"
   ]
  },
  {
   "cell_type": "code",
   "execution_count": 13,
   "metadata": {},
   "outputs": [],
   "source": [
    "# define some constants\n",
    "def K_diff(T):\n",
    "    import metpy.interpolate as mpinterp\n",
    "    '''\n",
    "    compute the molecular diffusion coefficient \"K\" from the tabulated value \n",
    "    '''\n",
    "    T_tab = np.arange(-40,40,10) * units('degreeC')\n",
    "    K_tab = np.array([2.07,2.16,2.24,2.32,2.40,2.48,2.55,2.63])*1e-2*units('J/m/s/K')\n",
    "    P0    = 100 * units('kPa')\n",
    "    mu_tab = mu(T_tab)\n",
    "    mu_in  = mu(T)\n",
    "    return mpinterp.interpolate_1d(mu_in,mu_tab,K_tab)\n",
    "\n",
    "def D_diff(T,P):\n",
    "    import metpy.interpolate as mpinterp\n",
    "    '''\n",
    "    compute the Coefficient of thermal conductivity of air \"D\" from the tabulated value \n",
    "    '''\n",
    "    P0    = 100 * units('kPa')\n",
    "    T_tab = np.arange(-40,40,10) * units('degreeC')\n",
    "    D_tab = np.array([1.62,1.76,1.91,2.06,2.21,2.36,2.52,2.69])*1e-5*units('m^2/s')\n",
    "    mu_tab = mu(T_tab)\n",
    "    mu_in  = mu(T)\n",
    "    return mpinterp.interpolate_1d(mu_in*T,mu_tab*T_tab,D_tab) * P0/P\n",
    "\n"
   ]
  },
  {
   "cell_type": "code",
   "execution_count": 14,
   "metadata": {},
   "outputs": [],
   "source": [
    "def Fk(T):\n",
    "    '''\n",
    "    compute the Fk term in Eq. 7.17 of R&T book\n",
    "    \n",
    "    '''\n",
    "    c1=(water_heat_vaporization/water_gas_constant/T-1.0)\n",
    "    c2= water_heat_vaporization*density_water/K_diff(T)/T\n",
    "    return (c1*c2).to_base_units()\n",
    "\n",
    "def Fd(T,P):\n",
    "    '''\n",
    "    compute the Fd term in Eq. 7.17 of R&T book\n",
    "    \n",
    "    '''\n",
    "    es = mpcalc.saturation_vapor_pressure(T)\n",
    "    return (density_water*water_gas_constant*T/D_diff(T,P)/es).to_base_units()\n",
    "\n",
    "def constant_b(T,solute_ion_num,solute_mass,solute_mole_weight):\n",
    "    '''\n",
    "    Compute the constant b in Kohlor curve\n",
    "    solute_ion_num:     ion number of solute (i.e., 2 for Nacl, Na+ Cl-)\n",
    "    solute_mass:        mass of the solution (e.g., sulfate, salt) [kg]\n",
    "    solute_mole_weight: molecular mass of solution [kg/mol]\n",
    "    '''\n",
    "    molecular_weight_ratio = water_molecular_weight/solute_mole_weight\n",
    "    b = (3.0*solute_ion_num*water_molecular_weight*solute_mass) / \\\n",
    "        (4.0*np.pi*density_water*solute_mole_weight)                   #page 87 of RY\n",
    "    return b.to_base_units()\n",
    "\n",
    "def constant_a(T):\n",
    "    '''\n",
    "    Compute the constant a in Kohlor curve\n",
    "    '''\n",
    "    sigma_w =  0.075 *units('N/m')        #[N / m] air-water surface tension factor\n",
    "    c2 = 2.0*sigma_w/(water_gas_constant*density_water)\n",
    "    a = c2/T                         #page 88 of RY\n",
    "    return a.to_base_units()\n",
    "     "
   ]
  },
  {
   "cell_type": "code",
   "execution_count": 15,
   "metadata": {},
   "outputs": [],
   "source": [
    "class Droplet():\n",
    "    def __init__(self):\n",
    "        pass\n",
    "    def set_conditions(self,radius,temperature,pressure,\\\n",
    "                            solute_ion_num = 2,\\\n",
    "                            solute_mass=1e-12*units('g'),\\\n",
    "                            solute_mole_weight=58.44 * units('g/mol')):\n",
    "        '''\n",
    "        inputs:\n",
    "        radius_um:     radius of the droplet in micron meter \n",
    "        temperature_K: temperature of the droplet in Kelvin\n",
    "        pressure_kPa:  enviromental pressure in kPa    \n",
    "        '''\n",
    "        self.r = radius\n",
    "        self.T = temperature\n",
    "        self.P = pressure\n",
    "        self.es = mpcalc.saturation_vapor_pressure(self.T)\n",
    "        self.solute_ion_num = solute_ion_num \n",
    "        self.solute_mass =solute_mass\n",
    "        self.solute_mole_weight = solute_mole_weight\n",
    "        self.a = constant_a(self.T)\n",
    "        self.b = constant_b(self.T,\\\n",
    "                            self.solute_ion_num,\\\n",
    "                            self.solute_mass,\\\n",
    "                            self.solute_mole_weight)\n",
    "\n",
    "    def diffusion_growth_tendency(self,S):\n",
    "        '''\n",
    "        Compute the diffusional growth rate drdt based on Eq. 7.17 of R&T book\n",
    "        inputs:\n",
    "        S Supersaturation ratio\n",
    "        '''\n",
    "        self.Fk = Fk(self.T) #(c1*c2).to_base_units() #Fk constant based on Eq. (7.17) of R&Y book\n",
    "        self.Fd = Fd(self.T,self.P) #(density_water*water_gas_constant*self.T/D_diff/self.es).to_base_units()\n",
    "        self.xi1= 1.0/(self.Fk+self.Fd)\n",
    "        self.xi = (S-1)*self.xi1 #(S-1-self.a/self.r+self.b/self.r**3)*self.xi1\n",
    "        self.drdt = 1/self.r*self.xi #(1.0/self.r*((S-1.0-self.a/self.r+self.b/self.r**3)/(self.Fk+self.Fd))).to_base_units()\n",
    "        #self.drdt = (1.0/self.r*((S-1.0)/(self.Fk+self.Fd))).to_base_units()"
   ]
  },
  {
   "cell_type": "markdown",
   "metadata": {},
   "source": [
    "### examples of single droplet growth by diffsion in Table 7.2 from Mason 1971\n",
    "The results are similar but a bit faster that thoses in Table 7.2. It seems that the a/r and b/r^3 terms are not considered in Mason 1971. "
   ]
  },
  {
   "cell_type": "code",
   "execution_count": 16,
   "metadata": {},
   "outputs": [
    {
     "name": "stdout",
     "output_type": "stream",
     "text": [
      "80.9400000000045 second\n"
     ]
    }
   ],
   "source": [
    "def single_droplet_growth_example(SS,T,P,\\\n",
    "                                  initial_r,final_r,\\\n",
    "                                  dt=1e-1*units('s'),\\\n",
    "                                  solute_mass=1e-13*units('g')):\n",
    "    '''\n",
    "    this program computes the time needed to grow a single droplet\n",
    "    from the initial radius \n",
    "    '''\n",
    "    d  = Droplet()\n",
    "    d.set_conditions(initial_r,T,P,solute_mass=solute_mass)\n",
    "    S  = 1.0+SS\n",
    "    t0 = 0\n",
    "    while d.r<final_r:\n",
    "        d.diffusion_growth_tendency(S)\n",
    "        dr = d.drdt*dt\n",
    "        d.set_conditions(d.r+dr,T,P)\n",
    "        t0+=dt\n",
    "    return t0\n",
    "\n",
    "T  = 283*units('K')\n",
    "P  = 80*units('kPa')\n",
    "SS = 0.0005\n",
    "r0  = 1.0*1e-6*units('m')\n",
    "r1  = 3.0*1e-6*units('m')\n",
    "time_to_grow = single_droplet_growth_example(SS,T,P,r0,r1,dt=1e-2*units('s'),solute_mass=1e-14*units('g'))\n",
    "print(time_to_grow)\n",
    "    "
   ]
  },
  {
   "cell_type": "markdown",
   "metadata": {},
   "source": [
    "##  growth of droplet population"
   ]
  },
  {
   "cell_type": "code",
   "execution_count": 17,
   "metadata": {},
   "outputs": [],
   "source": [
    "class air_parcel(Droplet):\n",
    "    epsilon = water_gas_constant / dry_air_gas_constant\n",
    "    def __init__(self):\n",
    "        pass\n",
    "    def init_conditions(self,Temperature,Pressure,Height,Vertical_velocity,Vapor_mass_mr):\n",
    "        self.T=Temperature # temperature of air parcel\n",
    "        self.P=Pressure    # pressure of air parcel\n",
    "        self.H=Height      # height of air parcel   \n",
    "        self.W=Vertical_velocity\n",
    "        self.Qv=Vapor_mass_mr # mass mixing ratio of water vapor\n",
    "        self.E =mpcalc.vapor_pressure(self.P,self.Qv).to('Pa')\n",
    "        self.Es=mpcalc.saturation_vapor_pressure(self.T).to('Pa')\n",
    "        self.S = self.E/self.Es\n",
    "        self.Rho = mpcalc.density(self.P,self.T,self.Qv)\n",
    "        self.compute_Q1()\n",
    "        self.compute_Q2()\n",
    "        \n",
    "    def set_droplets(self,Droplet_Num,Droplet_Radius):\n",
    "        self.Nc = Droplet_Num # number of the droplets corresponding to each droplet radius\n",
    "        self.droplets=[]\n",
    "        self.Ql=0.0 * units('kg/m^3')\n",
    "        #print('1,LWC=',self.Ql)\n",
    "        for i in range(len(Droplet_Radius)):\n",
    "            drop = Droplet()\n",
    "            drop.set_conditions(Droplet_Radius[i],self.T,self.P)\n",
    "            self.droplets.append(drop)\n",
    "            self.Ql+=density_water * 4.0/3.0*np.pi*Droplet_Radius[i]**3 * Droplet_Num[i]\n",
    "            \n",
    "    \n",
    "    def compute_Q1(self):\n",
    "        c1 = epsilon*water_heat_vaporization*earth_gravity/dry_air_gas_constant/dry_air_spec_heat_press/self.T\n",
    "        c2 = earth_gravity/dry_air_gas_constant\n",
    "        self.Q1=(1.0/self.T*(c1-c2)).to_base_units()\n",
    "        \n",
    "        \n",
    "    def compute_Q2(self):\n",
    "        \n",
    "        c1 = dry_air_gas_constant*self.T/epsilon/self.Es\n",
    "        c2 = epsilon * water_heat_vaporization**2/self.P/self.T/dry_air_spec_heat_press\n",
    "        self.Q2 = (self.Rho*(c1+c2)).to_base_units()\n",
    "        \n",
    "    def adiabatic_ascend(self,dt=0.1*units('s')):\n",
    "        dz = self.W*dt\n",
    "        \n",
    "        P_term = self.Q1*self.W\n",
    "        drdt=[]\n",
    "        old_r=[]\n",
    "        new_r=[]\n",
    "        old_Ql=self.Ql \n",
    "        for N in range(len(self.Nc)):\n",
    "            self.droplets[N].diffusion_growth_tendency(self.S)\n",
    "            drdt.append(self.droplets[N].drdt)\n",
    "            old_r.append(self.droplets[N].r)\n",
    "            new_r.append(self.droplets[N].r+drdt[-1]*dt)\n",
    "        self.set_droplets(self.Nc,new_r)\n",
    "        dQl = ((self.Ql-old_Ql)/self.Rho)[0]\n",
    "        C_term = self.Q2*(dQl/dt)\n",
    "        \n",
    "        #print(\"P_term\",P_term.to_base_units(),\"C_term\",C_term)\n",
    "        \n",
    "        self.dSdt = P_term - C_term\n",
    "        dP    = - (self.Rho*earth_gravity*dz).to('hPa')\n",
    "        #print('dP,dQl',dP,dQl)\n",
    "        dq    = (-earth_gravity*dz + water_heat_vaporization*dQl)\n",
    "        #print('dq',dq.to_base_units())\n",
    "        dT    = (dq/dry_air_spec_heat_press).to('K')\n",
    "        #print('dT',dT.to_base_units())\n",
    "        dS    = self.dSdt * dt\n",
    "        \n",
    "        self.P +=  dP\n",
    "        self.T +=  dT\n",
    "        self.S +=  dS\n",
    "        self.H +=  dz\n",
    "        self.Es =  mpcalc.saturation_vapor_pressure(self.T).to('Pa')\n",
    "        self.E  =  self.S * self.Es\n",
    "        self.Qv =  mpcalc.mixing_ratio(self.E,self.P)\n",
    "        self.Rho = mpcalc.density(self.P,self.T,self.Qv)    \n",
    "        self.compute_Q1()\n",
    "        self.compute_Q2()"
   ]
  },
  {
   "cell_type": "markdown",
   "metadata": {},
   "source": [
    "### plot the figure 7.2 the Q1 and Q2 terms"
   ]
  },
  {
   "cell_type": "code",
   "execution_count": 19,
   "metadata": {},
   "outputs": [
    {
     "name": "stdout",
     "output_type": "stream",
     "text": [
      "before 1.0566836945301203 dimensionless 900 hectopascal 283.0 kelvin\n",
      "after 0.9417346698146685 dimensionless 899.9459687815679 hectopascal 283.99802784781366 kelvin\n"
     ]
    }
   ],
   "source": [
    "T = 283.0 * units('K')\n",
    "P = 900 * units('hPa')\n",
    "W =  50 * units('cm/s')\n",
    "mr = 9.0 *units('g/kg')\n",
    "air = air_parcel()\n",
    "air.init_conditions(T,P,1000*units('m'),W,mr)\n",
    "CDNC=75\n",
    "Nc_r = np.full(CDNC,1) * units('cm^-3')\n",
    "drop_r = np.full(CDNC,0.5*1e-6) *units('m')\n",
    "air.set_droplets(Nc_r,drop_r)\n",
    "# print(air.droplets[30].r)\n",
    "# print(air.Nc,air.Ql.to('g/m^3'),air.S)\n",
    "print('before',air.S,air.P,air.T)\n",
    "air.adiabatic_ascend(dt=1*units('s'))\n",
    "print('after',air.S,air.P,air.T)"
   ]
  },
  {
   "cell_type": "code",
   "execution_count": null,
   "metadata": {},
   "outputs": [],
   "source": []
  }
 ],
 "metadata": {
  "kernelspec": {
   "display_name": "Python 3 (ipykernel)",
   "language": "python",
   "name": "python3"
  },
  "language_info": {
   "codemirror_mode": {
    "name": "ipython",
    "version": 3
   },
   "file_extension": ".py",
   "mimetype": "text/x-python",
   "name": "python",
   "nbconvert_exporter": "python",
   "pygments_lexer": "ipython3",
   "version": "3.10.2"
  }
 },
 "nbformat": 4,
 "nbformat_minor": 4
}
